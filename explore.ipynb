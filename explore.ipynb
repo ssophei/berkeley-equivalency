{
 "cells": [
  {
   "cell_type": "code",
   "execution_count": 5,
   "id": "3a48b2ce",
   "metadata": {},
   "outputs": [],
   "source": [
    "from bs4 import BeautifulSoup\n",
    "import bs4\n",
    "from playwright.async_api import async_playwright\n",
    "import requests"
   ]
  },
  {
   "cell_type": "code",
   "execution_count": 18,
   "id": "7756607a",
   "metadata": {},
   "outputs": [],
   "source": [
    "url = 'https://assist.org/transfer/results?year=75&institution=79&agreement=113&agreementType=from&viewAgreementsOptions=true&view=agreement&viewBy=major&viewSendingAgreements=false&viewByKey=75%2F113%2Fto%2F79%2FMajor%2F607b828c-8ba3-411b-7de1-08dcb87d5deb'"
   ]
  },
  {
   "cell_type": "code",
   "execution_count": 19,
   "id": "58629e14",
   "metadata": {},
   "outputs": [
    {
     "data": {
      "text/plain": [
       "<JSHandle preview=JSHandle@node>"
      ]
     },
     "execution_count": 19,
     "metadata": {},
     "output_type": "execute_result"
    }
   ],
   "source": [
    "playwright = await async_playwright().start()\n",
    "browser = await playwright.chromium.launch(headless=True)\n",
    "page = await browser.new_page()\n",
    "await page.goto(url, wait_until='networkidle')\n",
    "await page.wait_for_selector('.articRow')"
   ]
  },
  {
   "cell_type": "code",
   "execution_count": 20,
   "id": "06f2313f",
   "metadata": {},
   "outputs": [
    {
     "name": "stdout",
     "output_type": "stream",
     "text": [
      "Found 23 receiving course blocks.\n"
     ]
    },
    {
     "data": {
      "text/plain": [
       "bs4.element.Tag"
      ]
     },
     "execution_count": 20,
     "metadata": {},
     "output_type": "execute_result"
    }
   ],
   "source": [
    "content = await page.content()\n",
    "soup = BeautifulSoup(content, 'lxml')\n",
    "articRows = soup.find_all('div', class_='articRow')\n",
    "print(f\"Found {len(articRows)} receiving course blocks.\")\n",
    "type(articRows[0])"
   ]
  },
  {
   "cell_type": "code",
   "execution_count": null,
   "id": "dfcd5400",
   "metadata": {},
   "outputs": [],
   "source": [
    "example_articRow = articRows[9] # simplest case one one course for both receiving and sending"
   ]
  },
  {
   "cell_type": "code",
   "execution_count": 27,
   "id": "5d300b7b",
   "metadata": {},
   "outputs": [],
   "source": [
    "def clean_units(units: str) -> float:\n",
    "    \"\"\"\n",
    "    ### Description:\n",
    "        Remove the 'unit' suffix and convert to float.\n",
    "    ### Args:\n",
    "        units (str): The units string to clean, e.g., \"4.00units\" or \"3.0 unit\".\n",
    "    ### Returns:\n",
    "        float: The cleaned units as a float, e.g., 4.0 or 3.0.\n",
    "    ### Raises:\n",
    "        ValueError: If the units string is not in a valid format.\n",
    "    \"\"\"\n",
    "    removed_suffix = units.replace('units', '').replace('unit', '').strip()\n",
    "    try:\n",
    "        return float(removed_suffix)\n",
    "    except ValueError as e:\n",
    "        print(f\"Error converting units to float: {e}\")\n",
    "        raise ValueError(f\"Invalid units format: {units}\")\n",
    "\n",
    "def clean_full_course(course: str) -> dict[str, str]:\n",
    "    \"\"\"\n",
    "    ### Description:\n",
    "        Clean the course string to extract the subject and number.\n",
    "    ### Args:\n",
    "        course (str): The full course string, e.g., \"CS 101\".\n",
    "    ### Returns:\n",
    "        dict: A dictionary with 'subject' and 'number' keys.\n",
    "    \"\"\"\n",
    "    parts = course.split()\n",
    "    if len(parts) < 2:\n",
    "        raise ValueError(f\"Invalid course format: {course}\")\n",
    "    return {\n",
    "        'subject': parts[0],\n",
    "        'number': ' '.join(parts[1:])\n",
    "    }\n",
    "def process_courseLine(courseLine: bs4.element.Tag):\n",
    "    try:\n",
    "        course = courseLine.find('div', class_='prefixCourseNumber').text.strip() # type: ignore\n",
    "        title = courseLine.find('div', class_='courseTitle').text.strip() # type: ignore\n",
    "        units = courseLine.find('div', class_='courseUnits').text.strip() # type: ignore\n",
    "        course_subject = clean_full_course(course)[\"subject\"]\n",
    "        course_number = clean_full_course(course)[\"number\"]\n",
    "        return {\n",
    "            'type': 'course',\n",
    "            'subject': course_subject,\n",
    "            'number': course_number,\n",
    "            'title': title,\n",
    "            'units': clean_units(units)\n",
    "        }\n",
    "    except AttributeError as e:\n",
    "        print(f\"Error processing course line: {e}\")\n",
    "        return None"
   ]
  },
  {
   "cell_type": "code",
   "execution_count": 28,
   "id": "c1524912",
   "metadata": {},
   "outputs": [],
   "source": [
    "# handle a rowReceiving\n",
    "def handle_rowReceiving(rowReceiving: bs4.element.Tag):\n",
    "    assert rowReceiving.name == 'div' and 'rowReceiving' in rowReceiving.get('class', []), f\"Expected a 'div' with class 'rowReceiving', got {rowReceiving.name} with classes {rowReceiving.get('class', [])}\"\n",
    "    \n",
    "    # for now only support one courseLine\n",
    "    courseLine = rowReceiving.find('div', class_='courseLine')\n",
    "    if courseLine:\n",
    "        course_data = process_courseLine(courseLine)\n",
    "        return course_data\n",
    "    else:\n",
    "        print(\"No courseLine found in rowReceiving.\")\n",
    "        raise ValueError(\"No courseLine found in rowReceiving.\")\n",
    "    "
   ]
  },
  {
   "cell_type": "code",
   "execution_count": 29,
   "id": "f2ad043a",
   "metadata": {},
   "outputs": [],
   "source": [
    "def handle_rowSending(rowSending: bs4.element.Tag):\n",
    "    assert rowSending.name == 'div' and 'rowSending' in rowSending.get('class', []), f\"Expected a 'div' with class 'rowSending', got {rowSending.name} with classes {rowSending.get('class', [])}\"\n",
    "    \n",
    "    mainContent = rowSending.find('div', class_='view_sending__content')\n",
    "    # for now only support one courseLine\n",
    "    courseLine = mainContent.find('div', class_='courseLine')\n",
    "    if courseLine:\n",
    "        course_data = process_courseLine(courseLine)\n",
    "        return course_data\n",
    "    else:\n",
    "        print(\"No courseLine found in rowSending.\")\n",
    "        raise ValueError(\"No courseLine found in rowSending.\")"
   ]
  },
  {
   "cell_type": "code",
   "execution_count": 32,
   "id": "72c65850",
   "metadata": {},
   "outputs": [],
   "source": [
    "def process_artic_row(row: bs4.element.Tag):\n",
    "    try:\n",
    "        receiving_html = row.find('div', class_='rowReceiving')  # type: ignore\n",
    "        receiving_course = handle_rowReceiving(receiving_html) # type: ignore\n",
    "        sending_html = row.find('div', class_='rowSending')  # type: ignore\n",
    "        sending_course = handle_rowSending(sending_html) # type: ignore\n",
    "    except Exception as e:\n",
    "        print(f\"Error processing receiving course: {e}\")\n",
    "        raise ValueError(\"Failed to process articRow.\")\n",
    "    \n",
    "    return {\n",
    "        \"receiving\": receiving_course,\n",
    "        \"sending\": sending_course\n",
    "    }"
   ]
  },
  {
   "cell_type": "code",
   "execution_count": 33,
   "id": "38e105d2",
   "metadata": {},
   "outputs": [
    {
     "data": {
      "text/plain": [
       "{'receiving': {'type': 'course',\n",
       "  'subject': 'ASTRON',\n",
       "  'number': '10',\n",
       "  'title': 'Introduction to General Astronomy',\n",
       "  'units': 4.0},\n",
       " 'sending': {'type': 'course',\n",
       "  'subject': 'ASTR',\n",
       "  'number': '10',\n",
       "  'title': 'Stellar Astronomy',\n",
       "  'units': 5.0}}"
      ]
     },
     "execution_count": 33,
     "metadata": {},
     "output_type": "execute_result"
    }
   ],
   "source": [
    "process_artic_row(example_articRow)"
   ]
  }
 ],
 "metadata": {
  "kernelspec": {
   "display_name": "WebScraping",
   "language": "python",
   "name": "webscraping"
  },
  "language_info": {
   "codemirror_mode": {
    "name": "ipython",
    "version": 3
   },
   "file_extension": ".py",
   "mimetype": "text/x-python",
   "name": "python",
   "nbconvert_exporter": "python",
   "pygments_lexer": "ipython3",
   "version": "3.13.3"
  }
 },
 "nbformat": 4,
 "nbformat_minor": 5
}
