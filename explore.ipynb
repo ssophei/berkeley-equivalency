{
 "cells": [
  {
   "cell_type": "code",
   "execution_count": 1,
   "id": "3a48b2ce",
   "metadata": {},
   "outputs": [],
   "source": [
    "from bs4 import BeautifulSoup\n",
    "from playwright.async_api import async_playwright"
   ]
  },
  {
   "cell_type": "code",
   "execution_count": 2,
   "id": "7756607a",
   "metadata": {},
   "outputs": [],
   "source": [
    "url = 'https://assist.org/transfer/results?year=75&institution=79&agreement=124&agreementType=from&viewAgreementsOptions=true&view=agreement&viewBy=major&viewSendingAgreements=false&viewByKey=75%2F124%2Fto%2F79%2FMajor%2F23d79a84-d16c-4b58-7dee-08dcb87d5deb'"
   ]
  },
  {
   "cell_type": "code",
   "execution_count": 3,
   "id": "58629e14",
   "metadata": {},
   "outputs": [
    {
     "data": {
      "text/plain": [
       "<JSHandle preview=JSHandle@node>"
      ]
     },
     "execution_count": 3,
     "metadata": {},
     "output_type": "execute_result"
    }
   ],
   "source": [
    "playwright = await async_playwright().start()\n",
    "browser = await playwright.chromium.launch(headless=True)\n",
    "page = await browser.new_page()\n",
    "await page.goto(url, wait_until='networkidle')\n",
    "await page.wait_for_selector('.rowReceiving')"
   ]
  },
  {
   "cell_type": "code",
   "execution_count": 4,
   "id": "06f2313f",
   "metadata": {},
   "outputs": [
    {
     "name": "stdout",
     "output_type": "stream",
     "text": [
      "Found 11 receiving course blocks.\n"
     ]
    }
   ],
   "source": [
    "content = await page.content()\n",
    "soup = BeautifulSoup(content, 'lxml')\n",
    "courses = soup.find_all('div', class_='rowReceiving')\n",
    "print(f\"Found {len(courses)} receiving course blocks.\")"
   ]
  },
  {
   "cell_type": "code",
   "execution_count": null,
   "id": "72c65850",
   "metadata": {},
   "outputs": [],
   "source": [
    "attributes = soup.find_all(class_='attributeContent')"
   ]
  },
  {
   "cell_type": "code",
   "execution_count": 9,
   "id": "bc26527d",
   "metadata": {},
   "outputs": [
    {
     "name": "stdout",
     "output_type": "stream",
     "text": [
      "Recommended to be completed prior to transfer\n",
      "Please refer to additional important General Information section above\n",
      "Regular and honors courses may be combined to complete this series\n",
      "Regular and honors courses may be combined to complete this series\n",
      "Same as ENVECON C1\n",
      "Same as ECON 6\n",
      "Please refer to additional important General Information section above\n",
      "Same as COMPSCI C8, INFO C8, STAT C8\n",
      "Same as COMPSCI C88C\n"
     ]
    }
   ],
   "source": [
    "for attribute in attributes:\n",
    "    print(' '.join(attribute.stripped_strings))"
   ]
  }
 ],
 "metadata": {
  "kernelspec": {
   "display_name": "WebScraping",
   "language": "python",
   "name": "webscraping"
  },
  "language_info": {
   "codemirror_mode": {
    "name": "ipython",
    "version": 3
   },
   "file_extension": ".py",
   "mimetype": "text/x-python",
   "name": "python",
   "nbconvert_exporter": "python",
   "pygments_lexer": "ipython3",
   "version": "3.13.3"
  }
 },
 "nbformat": 4,
 "nbformat_minor": 5
}
